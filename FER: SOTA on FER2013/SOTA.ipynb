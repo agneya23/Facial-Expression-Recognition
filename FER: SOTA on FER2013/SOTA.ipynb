{
  "nbformat": 4,
  "nbformat_minor": 0,
  "metadata": {
    "colab": {
      "name": "SOTA.ipynb",
      "provenance": [],
      "collapsed_sections": [],
      "authorship_tag": "ABX9TyPLmupUMomeIcw44S5Yzd+U",
      "include_colab_link": true
    },
    "kernelspec": {
      "name": "python3",
      "display_name": "Python 3"
    },
    "language_info": {
      "name": "python"
    },
    "accelerator": "GPU"
  },
  "cells": [
    {
      "cell_type": "markdown",
      "metadata": {
        "id": "view-in-github",
        "colab_type": "text"
      },
      "source": [
        "<a href=\"https://colab.research.google.com/github/agneya23/Facial-Expression-Recognition/blob/main/FER%3A%20SOTA%20on%20FER2013/SOTA.ipynb\" target=\"_parent\"><img src=\"https://colab.research.google.com/assets/colab-badge.svg\" alt=\"Open In Colab\"/></a>"
      ]
    },
    {
      "cell_type": "code",
      "metadata": {
        "colab": {
          "base_uri": "https://localhost:8080/"
        },
        "id": "9_P_8dl75eAC",
        "outputId": "2fc86f5e-eddc-498e-e6f6-3424d9d7e480"
      },
      "source": [
        "# Mount the drive \n",
        "from google.colab import drive\n",
        "drive.mount('/content/drive')"
      ],
      "execution_count": 1,
      "outputs": [
        {
          "output_type": "stream",
          "name": "stdout",
          "text": [
            "Drive already mounted at /content/drive; to attempt to forcibly remount, call drive.mount(\"/content/drive\", force_remount=True).\n"
          ]
        }
      ]
    },
    {
      "cell_type": "code",
      "metadata": {
        "colab": {
          "base_uri": "https://localhost:8080/"
        },
        "id": "bNhUIOVH5jqj",
        "outputId": "cf3e3b71-4ee7-483a-8ae1-193525982cb9"
      },
      "source": [
        "# Import Libraries\n",
        "import os\n",
        "import copy\n",
        "import numpy as np\n",
        "import matplotlib.pyplot as plt\n",
        "import pandas as pd\n",
        "import torch\n",
        "import torchvision\n",
        "\n",
        "if torch.cuda.is_available():\n",
        "    device = torch.device('cuda:0')\n",
        "    print('GPU')\n",
        "else:\n",
        "    device = torch.device('cpu')\n",
        "    print('CPU')"
      ],
      "execution_count": 2,
      "outputs": [
        {
          "output_type": "stream",
          "name": "stdout",
          "text": [
            "GPU\n"
          ]
        }
      ]
    },
    {
      "cell_type": "code",
      "metadata": {
        "id": "-l85130G5je4"
      },
      "source": [
        "# Define Paths\n",
        "dir_path = '/content/drive/MyDrive/AI_ML/Projects/FER/SOTA/'\n",
        "data_path = dir_path + 'fer2013.csv'"
      ],
      "execution_count": 3,
      "outputs": []
    },
    {
      "cell_type": "code",
      "metadata": {
        "id": "C4Koyl5C5jYv"
      },
      "source": [
        "# Prepare Dataframes\n",
        "data_df = pd.read_csv(data_path)\n",
        "train_data_df = data_df.iloc[:28708]\n",
        "test_data_df = data_df.iloc[32298:]"
      ],
      "execution_count": 4,
      "outputs": []
    },
    {
      "cell_type": "code",
      "metadata": {
        "id": "V3m-z1EK5kgE"
      },
      "source": [
        "# Define Transformations for Data Augmentation\n",
        "trans = torchvision.transforms.Compose([torchvision.transforms.ToTensor(),\n",
        "                                        #torchvision.transforms.Normalize(mean=[0.445, 0.445, 0.445],std=[0.269, 0.269, 0.269]),\n",
        "                                        torchvision.transforms.RandomApply([torchvision.transforms.RandomAffine(degrees=10, \n",
        "                                                                                                               translate=(0.2, 0.2), \n",
        "                                                                                                               scale=(0.8, 1.2))], \n",
        "                                                                           p=0.5)])"
      ],
      "execution_count": 5,
      "outputs": []
    },
    {
      "cell_type": "code",
      "metadata": {
        "id": "6DuSVnsE5xAO"
      },
      "source": [
        "# Prepare Lists\n",
        "train_lst = []\n",
        "for i in range(0, len(train_data_df)):\n",
        "    pixels = train_data_df.iloc[i]['pixels']\n",
        "    emotion = train_data_df.iloc[i]['emotion']\n",
        "    pixels_list = pixels.split()\n",
        "    map_obj = map(int, pixels_list)\n",
        "    pixels_list = list(map_obj)\n",
        "    img_array = np.array(pixels_list, dtype=np.uint8)\n",
        "    img_array = img_array.reshape([48, 48])\n",
        "    img_array = torchvision.transforms.ToPILImage()(img_array)\n",
        "    img_array = torchvision.transforms.functional.to_grayscale(img_array, num_output_channels=3)\n",
        "    img = trans(img_array)\n",
        "    train_lst.append( (img, emotion) )\n",
        "\n",
        "test_lst = []\n",
        "for i in range(0, len(test_data_df)):\n",
        "    pixels = test_data_df.iloc[i]['pixels']\n",
        "    emotion = test_data_df.iloc[i]['emotion']\n",
        "    pixels_list = pixels.split()\n",
        "    map_obj = map(int, pixels_list)\n",
        "    pixels_list = list(map_obj)\n",
        "    img_array = np.array(pixels_list, dtype=np.uint8)\n",
        "    img_array = img_array.reshape([48, 48])\n",
        "    img_array = torchvision.transforms.ToPILImage()(img_array)\n",
        "    img_array = torchvision.transforms.functional.to_grayscale(img_array, num_output_channels=3)\n",
        "    img = trans(img_array)\n",
        "    test_lst.append( (img, emotion) )"
      ],
      "execution_count": 6,
      "outputs": []
    },
    {
      "cell_type": "code",
      "metadata": {
        "colab": {
          "base_uri": "https://localhost:8080/",
          "height": 302
        },
        "id": "e1sQTcp45w81",
        "outputId": "df91c34e-4d29-4b18-9ef9-2d7f2383037e"
      },
      "source": [
        "# Display Sample Image from the Data\n",
        "img = train_lst[26][0].squeeze(0)\n",
        "print(img.shape)\n",
        "plt.imshow(img.permute(1,2,0))"
      ],
      "execution_count": 7,
      "outputs": [
        {
          "output_type": "stream",
          "name": "stdout",
          "text": [
            "torch.Size([3, 48, 48])\n"
          ]
        },
        {
          "output_type": "execute_result",
          "data": {
            "text/plain": [
              "<matplotlib.image.AxesImage at 0x7ff44a04f5d0>"
            ]
          },
          "metadata": {},
          "execution_count": 7
        },
        {
          "output_type": "display_data",
          "data": {
            "image/png": "[encoded data removed]",
            "text/plain": [
              "<Figure size 432x288 with 1 Axes>"
            ]
          },
          "metadata": {
            "needs_background": "light"
          }
        }
      ]
    },
    {
      "cell_type": "code",
      "metadata": {
        "id": "TDRgDiDl5w6h"
      },
      "source": [
        "# Create Dataloaders\n",
        "train_loader = torch.utils.data.DataLoader(train_lst, batch_size=128, shuffle=True)\n",
        "test_loader = torch.utils.data.DataLoader(test_lst, batch_size=1, shuffle=True)"
      ],
      "execution_count": 8,
      "outputs": []
    },
    {
      "cell_type": "code",
      "metadata": {
        "id": "rZz7Tnxx-8Pt"
      },
      "source": [
        "# Define Model, Loss and Optimizer\n",
        "model = torchvision.models.vgg16_bn(pretrained=True).to(device)\n",
        "for param in model.parameters():\n",
        "    param.requires_grad_ = True\n",
        "model.fc = torch.nn.Linear(1000, 7)\n",
        "loss = torch.nn.CrossEntropyLoss()\n",
        "optimizer = torch.optim.SGD(model.parameters(), lr=0.001, momentum=0.9 , dampening=0, weight_decay=0.01, nesterov=True)\n",
        "scheduler = torch.optim.lr_scheduler.ReduceLROnPlateau(optimizer, 'min', factor=0.5, patience=2)"
      ],
      "execution_count": 9,
      "outputs": []
    },
    {
      "cell_type": "code",
      "metadata": {
        "id": "mOw2gbGX6hYw",
        "colab": {
          "base_uri": "https://localhost:8080/"
        },
        "outputId": "57090276-d4a9-4f8f-bf65-c5fc7a0571b0"
      },
      "source": [
        "# Train and Evaluate the model\n",
        "model.train()\n",
        "best_train_loss = float('inf')\n",
        "best_model_wts = copy.deepcopy(model.state_dict())\n",
        "num_epoch = 5\n",
        "for i in range(num_epoch):\n",
        "    total_train_loss, total_val_loss, train_loss, val_loss = 0, 0, 0, 0\n",
        "    for train_images, train_labels in train_loader:\n",
        "        train_images = train_images.to(device)\n",
        "        train_labels = train_labels.to(device)\n",
        "        train_output = model(train_images)     \n",
        "        train_loss = loss(train_output, train_labels)\n",
        "        optimizer.zero_grad()\n",
        "        train_loss.backward(retain_graph=False)\n",
        "        optimizer.step()\n",
        "        del train_images\n",
        "        del train_labels\n",
        "        total_train_loss += train_loss\n",
        "    total_train_loss /= len(train_lst)\n",
        "    scheduler.step(total_train_loss)\n",
        "\n",
        "    print(\"The value of train loss at epoch {} is: {}\".format(i+1, total_train_loss))\n",
        "\n",
        "    if total_train_loss < best_train_loss:\n",
        "        best_train_loss = total_train_loss\n",
        "        best_model_wts = copy.deepcopy(model.state_dict())\n",
        "\n",
        "print(\"The best train loss achieved is: {}\".format(best_train_loss))"
      ],
      "execution_count": 10,
      "outputs": [
        {
          "output_type": "stream",
          "name": "stdout",
          "text": [
            "The value of train loss at epoch 1 is: 0.01568102464079857\n",
            "The value of train loss at epoch 2 is: 0.010921327397227287\n",
            "The value of train loss at epoch 3 is: 0.009243125095963478\n",
            "The value of train loss at epoch 4 is: 0.007814256474375725\n",
            "The value of train loss at epoch 5 is: 0.00614528451114893\n",
            "The best train loss achieved is: 0.00614528451114893\n"
          ]
        }
      ]
    },
    {
      "cell_type": "code",
      "metadata": {
        "id": "yPaGGc-BHNc6",
        "colab": {
          "base_uri": "https://localhost:8080/"
        },
        "outputId": "58da55ad-3741-4d4e-a63c-ab0d07fa708c"
      },
      "source": [
        "model.load_state_dict(best_model_wts)\n",
        "model.eval()\n",
        "count = 0\n",
        "# Make predictions on test data\n",
        "for test_images, test_labels in test_loader:\n",
        "    test_images = test_images.to(device)\n",
        "    test_labels = test_labels.to(device)\n",
        "    test_output = model(test_images)\n",
        "    test_output = test_output.argmax(1)\n",
        "    if test_labels == test_output:\n",
        "        count += 1\n",
        "test_acc = count/len(test_lst) * 100\n",
        "print(\"The accuracy achieved on the test data is: {}%\".format(test_acc))"
      ],
      "execution_count": 11,
      "outputs": [
        {
          "output_type": "stream",
          "name": "stdout",
          "text": [
            "The accuracy achieved on the test data is: 55.25215937587071%\n"
          ]
        }
      ]
    }
  ]
}